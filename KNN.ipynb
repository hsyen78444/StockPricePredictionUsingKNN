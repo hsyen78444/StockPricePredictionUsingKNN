{
  "nbformat": 4,
  "nbformat_minor": 0,
  "metadata": {
    "colab": {
      "provenance": [],
      "authorship_tag": "ABX9TyMaRf2djSCPwzLEAAkeIxH4",
      "include_colab_link": true
    },
    "kernelspec": {
      "name": "python3",
      "display_name": "Python 3"
    },
    "language_info": {
      "name": "python"
    }
  },
  "cells": [
    {
      "cell_type": "markdown",
      "metadata": {
        "id": "view-in-github",
        "colab_type": "text"
      },
      "source": [
        "<a href=\"https://colab.research.google.com/github/hsyen78444/StockPricePredictionUsingKNN/blob/main/KNN.ipynb\" target=\"_parent\"><img src=\"https://colab.research.google.com/assets/colab-badge.svg\" alt=\"Open In Colab\"/></a>"
      ]
    },
    {
      "cell_type": "code",
      "execution_count": 1,
      "metadata": {
        "id": "xl_ED6GsUKNl"
      },
      "outputs": [],
      "source": [
        "import numpy as np\n",
        "import pandas as pd\n",
        "from sklearn.model_selection import train_test_split\n",
        "from sklearn.preprocessing import StandardScaler\n",
        "from sklearn.neighbors import KNeighborsRegressor\n",
        "from sklearn.metrics import mean_squared_error\n"
      ]
    },
    {
      "cell_type": "code",
      "source": [
        "import io\n",
        "import requests\n",
        "from google.colab import drive\n",
        "drive.mount('/content/gdrive', force_remount=True)"
      ],
      "metadata": {
        "colab": {
          "base_uri": "https://localhost:8080/"
        },
        "id": "KQ1c1Ni5URt8",
        "outputId": "ed49576d-a46b-43fb-d2c7-1d6dd499240e"
      },
      "execution_count": 2,
      "outputs": [
        {
          "output_type": "stream",
          "name": "stdout",
          "text": [
            "Mounted at /content/gdrive\n"
          ]
        }
      ]
    },
    {
      "cell_type": "code",
      "source": [
        "# Import dataset\n",
        "\n",
        "DATA_DIR = \"/content/gdrive/MyDrive/MLdata/oil_and_gas.csv\"\n",
        "data = pd.read_csv (DATA_DIR, header=0)\n"
      ],
      "metadata": {
        "id": "zSLMwvJDUnQ9"
      },
      "execution_count": 4,
      "outputs": []
    },
    {
      "cell_type": "code",
      "source": [
        "# Function to preprocess data\n",
        "def preprocess_data(data):\n",
        "    # Create lagged features\n",
        "    for i in range(1, 6):\n",
        "        data[f'Lagged_{i}'] = data['Close'].shift(i)\n",
        "    data.dropna(inplace=True)\n",
        "\n",
        "    # Split data into features and target variable\n",
        "    X = data[['Open', 'High', 'Low', 'Volume']]\n",
        "    y = data['Close']\n",
        "\n",
        "    # Split data into train and test sets\n",
        "    X_train, X_test, y_train, y_test = train_test_split(X, y, test_size=0.2, random_state=42)\n",
        "\n",
        "    # Standardize features\n",
        "    scaler = StandardScaler()\n",
        "    X_train = scaler.fit_transform(X_train)\n",
        "    X_test = scaler.transform(X_test)\n",
        "\n",
        "    return X_train, X_test, y_train, y_test"
      ],
      "metadata": {
        "id": "rHO77h5jUw1b"
      },
      "execution_count": 5,
      "outputs": []
    },
    {
      "cell_type": "code",
      "source": [
        "# Function to train and evaluate KNN model\n",
        "def train_evaluate_knn(X_train, X_test, y_train, y_test, k):\n",
        "    # Train KNN model\n",
        "    knn = KNeighborsRegressor(n_neighbors=k)\n",
        "    knn.fit(X_train, y_train)\n",
        "\n",
        "    # Predictions\n",
        "    y_pred_train = knn.predict(X_train)\n",
        "    y_pred_test = knn.predict(X_test)\n",
        "\n",
        "    # Evaluate model\n",
        "    train_rmse = np.sqrt(mean_squared_error(y_train, y_pred_train))\n",
        "    test_rmse = np.sqrt(mean_squared_error(y_test, y_pred_test))\n",
        "    print(f'Train RMSE: {train_rmse}')\n",
        "    print(f'Test RMSE: {test_rmse}')"
      ],
      "metadata": {
        "id": "w4Yi5euUVgf1"
      },
      "execution_count": 6,
      "outputs": []
    },
    {
      "cell_type": "code",
      "source": [
        "# Preprocess data\n",
        "X_train, X_test, y_train, y_test = preprocess_data(data)\n",
        "\n",
        "# Train and evaluate KNN model\n",
        "train_evaluate_knn(X_train, X_test, y_train, y_test, k=5)  # You can adjust k as needed"
      ],
      "metadata": {
        "colab": {
          "base_uri": "https://localhost:8080/"
        },
        "id": "RDcry1NRVnWW",
        "outputId": "4e496b76-f848-4280-82c1-98921b1e8466"
      },
      "execution_count": 8,
      "outputs": [
        {
          "output_type": "stream",
          "name": "stdout",
          "text": [
            "Train RMSE: 1.010600797924178\n",
            "Test RMSE: 1.2248047514725766\n"
          ]
        }
      ]
    }
  ]
}