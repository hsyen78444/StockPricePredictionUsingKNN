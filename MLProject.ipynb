{
  "nbformat": 4,
  "nbformat_minor": 0,
  "metadata": {
    "colab": {
      "provenance": [],
      "authorship_tag": "ABX9TyPuk6zzcLtbHesySBkqYVzB",
      "include_colab_link": true
    },
    "kernelspec": {
      "name": "python3",
      "display_name": "Python 3"
    },
    "language_info": {
      "name": "python"
    }
  },
  "cells": [
    {
      "cell_type": "markdown",
      "metadata": {
        "id": "view-in-github",
        "colab_type": "text"
      },
      "source": [
        "<a href=\"https://colab.research.google.com/github/hsyen78444/StockPricePredictionUsingKNN/blob/main/MLProject.ipynb\" target=\"_parent\"><img src=\"https://colab.research.google.com/assets/colab-badge.svg\" alt=\"Open In Colab\"/></a>"
      ]
    },
    {
      "cell_type": "code",
      "execution_count": 1,
      "metadata": {
        "id": "xl_ED6GsUKNl"
      },
      "outputs": [],
      "source": [
        "import numpy as np\n",
        "import pandas as pd\n",
        "from sklearn.model_selection import train_test_split\n",
        "from sklearn.preprocessing import StandardScaler\n",
        "from sklearn.neighbors import KNeighborsRegressor\n",
        "from sklearn.metrics import mean_absolute_error, mean_squared_error, r2_score\n"
      ]
    },
    {
      "cell_type": "code",
      "source": [
        "import io\n",
        "import requests\n",
        "from google.colab import drive\n",
        "drive.mount('/content/gdrive', force_remount=True)"
      ],
      "metadata": {
        "colab": {
          "base_uri": "https://localhost:8080/"
        },
        "id": "KQ1c1Ni5URt8",
        "outputId": "9a360aed-6ef2-4620-95f6-599e92d3b505"
      },
      "execution_count": 2,
      "outputs": [
        {
          "output_type": "stream",
          "name": "stdout",
          "text": [
            "Mounted at /content/gdrive\n"
          ]
        }
      ]
    },
    {
      "cell_type": "code",
      "source": [
        "# Import dataset\n",
        "\n",
        "DATA_DIR = \"/content/gdrive/MyDrive/MLdata/oil_and_gas.csv\"\n",
        "data = pd.read_csv (DATA_DIR, header=0)\n"
      ],
      "metadata": {
        "id": "zSLMwvJDUnQ9"
      },
      "execution_count": 3,
      "outputs": []
    },
    {
      "cell_type": "code",
      "source": [
        "# Function to preprocess data\n",
        "def preprocess_data(data):\n",
        "    # Create lagged features\n",
        "    for i in range(1, 6):\n",
        "        data[f'Lagged_{i}'] = data['Close'].shift(i)\n",
        "    data.dropna(inplace=True)\n",
        "\n",
        "    # Split data into features and target variable\n",
        "    X = data[['Open', 'High', 'Low', 'Volume']]\n",
        "    y = data['Close']\n",
        "\n",
        "    # Split data into train and test sets\n",
        "    X_train, X_test, y_train, y_test = train_test_split(X, y, test_size=0.2, random_state=42)\n",
        "\n",
        "    # Standardize features\n",
        "    scaler = StandardScaler()\n",
        "    X_train = scaler.fit_transform(X_train)\n",
        "    X_test = scaler.transform(X_test)\n",
        "\n",
        "    return X_train, X_test, y_train, y_test"
      ],
      "metadata": {
        "id": "rHO77h5jUw1b"
      },
      "execution_count": 4,
      "outputs": []
    },
    {
      "cell_type": "code",
      "source": [
        "# Function to train and evaluate KNN model\n",
        "def train_evaluate_knn(X_train, X_test, y_train, y_test, k):\n",
        "    # Train KNN model\n",
        "    knn = KNeighborsRegressor(n_neighbors=k)\n",
        "    knn.fit(X_train, y_train)\n",
        "\n",
        "    # Predictions\n",
        "    y_pred_train = knn.predict(X_train)\n",
        "    y_pred_test = knn.predict(X_test)\n",
        "\n",
        "    # Evaluate model\n",
        "    # Evaluate model\n",
        "    train_mae = mean_absolute_error(y_train, y_pred_train)\n",
        "    test_mae = mean_absolute_error(y_test, y_pred_test)\n",
        "    train_mse = mean_squared_error(y_train, y_pred_train)\n",
        "    test_mse = mean_squared_error(y_test, y_pred_test)\n",
        "    train_rmse = np.sqrt(train_mse)\n",
        "    test_rmse = np.sqrt(test_mse)\n",
        "    train_r2 = r2_score(y_train, y_pred_train)\n",
        "    test_r2 = r2_score(y_test, y_pred_test)\n",
        "    print(f'Train MAE: {train_mae}')\n",
        "    print(f'Test MAE: {test_mae}')\n",
        "    print(f'Train MSE: {train_mse}')\n",
        "    print(f'Test MSE: {test_mse}')\n",
        "    print(f'Train RMSE: {train_rmse}')\n",
        "    print(f'Test RMSE: {test_rmse}')\n",
        "    print(f'Train R-squared: {train_r2}')\n",
        "    print(f'Test R-squared: {test_r2}')"
      ],
      "metadata": {
        "id": "w4Yi5euUVgf1"
      },
      "execution_count": 5,
      "outputs": []
    },
    {
      "cell_type": "code",
      "source": [
        "# Preprocess data\n",
        "X_train, X_test, y_train, y_test = preprocess_data(data)\n",
        "\n",
        "# Train and evaluate KNN model\n",
        "train_evaluate_knn(X_train, X_test, y_train, y_test, k=5)  # You can adjust k as needed"
      ],
      "metadata": {
        "colab": {
          "base_uri": "https://localhost:8080/"
        },
        "id": "RDcry1NRVnWW",
        "outputId": "2a349ec5-5fee-46f8-bd2a-062211cd69a0"
      },
      "execution_count": 6,
      "outputs": [
        {
          "output_type": "stream",
          "name": "stdout",
          "text": [
            "Train MAE: 0.42777513331523215\n",
            "Test MAE: 0.5294326281494353\n",
            "Train MSE: 1.0213139727649851\n",
            "Test MSE: 1.5001466792298002\n",
            "Train RMSE: 1.010600797924178\n",
            "Test RMSE: 1.2248047514725766\n",
            "Train R-squared: 0.9992002374497595\n",
            "Test R-squared: 0.9988768594370163\n"
          ]
        }
      ]
    }
  ]
}